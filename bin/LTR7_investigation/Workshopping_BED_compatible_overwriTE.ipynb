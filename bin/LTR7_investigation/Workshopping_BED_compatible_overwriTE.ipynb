{
 "cells": [
  {
   "cell_type": "code",
   "execution_count": 14,
   "id": "3922271e",
   "metadata": {},
   "outputs": [
    {
     "name": "stdout",
     "output_type": "stream",
     "text": [
      "[['chr1', '134772', '137328', '-'], ['chr1', '134928', '139282', '-'], ['chr1', '629639', '630497', '+']]\n"
     ]
    }
   ],
   "source": [
    "class readBED:\n",
    "    \n",
    "    def __init__(self, filename ):\n",
    "        self.filename = filename\n",
    "\n",
    "    def bedreader(self):\n",
    "        beddata = []\n",
    "        with open(self.filename)as f:\n",
    "            for line in f:\n",
    "                beddata.append(line.strip().split())  \n",
    "        return beddata         \n",
    "\n",
    "class MYSQL_query:\n",
    "    \n",
    "    def __init__(self):\n",
    "        self.rangelist = []\n",
    "    \n",
    "    def rangesplit(beddata):\n",
    " \n",
    "        rangefind=[]\n",
    "    \n",
    "        for entry in beddata: \n",
    "            rangetemp=[]\n",
    "            rangetemp.append(entry[0])\n",
    "            rangetemp.append(entry[1])\n",
    "            rangetemp.append(entry[2])\n",
    "            rangetemp.append(entry[5])\n",
    "            rangefind.append(rangetemp)\n",
    "            \n",
    "        return rangefind\n",
    "            \n",
    "        \n",
    "\n",
    "def main():\n",
    "    \n",
    "    filereader = readBED(\"flair.collapse.isoforms.bed\")\n",
    "    \n",
    "    rawdata = filereader.bedreader()\n",
    "    \n",
    "    query = MYSQL_query.rangesplit(rawdata)\n",
    "    \n",
    "    \n",
    "    \n",
    "    print(query[0:3])\n",
    "    \n",
    "\n",
    "if __name__ == \"__main__\":\n",
    "    main()"
   ]
  },
  {
   "cell_type": "code",
   "execution_count": null,
   "id": "99a1b0c0",
   "metadata": {},
   "outputs": [],
   "source": []
  }
 ],
 "metadata": {
  "kernelspec": {
   "display_name": "Python 3 (ipykernel)",
   "language": "python",
   "name": "python3"
  },
  "language_info": {
   "codemirror_mode": {
    "name": "ipython",
    "version": 3
   },
   "file_extension": ".py",
   "mimetype": "text/x-python",
   "name": "python",
   "nbconvert_exporter": "python",
   "pygments_lexer": "ipython3",
   "version": "3.9.7"
  }
 },
 "nbformat": 4,
 "nbformat_minor": 5
}
